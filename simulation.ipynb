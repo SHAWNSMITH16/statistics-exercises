{
 "cells": [
  {
   "cell_type": "code",
   "execution_count": 227,
   "id": "7d7a235d",
   "metadata": {},
   "outputs": [],
   "source": [
    "import numpy as np\n",
    "import pandas as pd\n",
    "import random\n",
    "from datetime import date\n",
    "\n",
    "\n",
    "#np.random.seed(29) ----- used if multiple people are working on a project, you get the same \"random\" numbers"
   ]
  },
  {
   "cell_type": "markdown",
   "id": "e95a5d6c",
   "metadata": {},
   "source": [
    "1. How likely is it that you roll doubles when rolling two dice?"
   ]
  },
  {
   "cell_type": "code",
   "execution_count": 66,
   "id": "38c20f89",
   "metadata": {},
   "outputs": [
    {
     "name": "stdout",
     "output_type": "stream",
     "text": [
      "The first roll is 1 and the second roll is 1\n",
      "The probability of rolling doubles is appx: 17 %\n",
      "YOU ROLLED DOUBLES!!!!!!!\n"
     ]
    }
   ],
   "source": [
    "# randomizing the rolling of two dice\n",
    "die_one, die_two = random.randrange(1, 7), random.randrange(1, 7)\n",
    "#die_two = random.randrange(1, 7)\n",
    "\n",
    "print(\"The first roll is\", die_one, \"and the second roll is\", die_two)\n",
    "print(\"The probability of rolling doubles is appx:\", round(1 / 6 * 100), '%')\n",
    "if die_one == die_two:\n",
    "    print(\"YOU ROLLED DOUBLES!!!!!!!\")\n",
    "    "
   ]
  },
  {
   "cell_type": "code",
   "execution_count": 119,
   "id": "b06c9060",
   "metadata": {},
   "outputs": [
    {
     "data": {
      "text/plain": [
       "0.1684"
      ]
     },
     "execution_count": 119,
     "metadata": {},
     "output_type": "execute_result"
    }
   ],
   "source": [
    "n_rolls = nrows = 10_000\n",
    "n_dice = ncols = 2\n",
    "\n",
    "rolls = np.random.choice([1, 2, 3, 4, 5, 6], n_rolls * n_dice).reshape(nrows, ncols)\n",
    "rolls\n",
    "\n",
    "pd.DataFrame(rolls).apply(lambda row: row[0] == row[1], axis = 1).mean()\n"
   ]
  },
  {
   "cell_type": "markdown",
   "id": "1afd95b6",
   "metadata": {},
   "source": [
    "2. If you flip 8 coins, what is the probability of getting exactly 3 heads? What is the probability of getting more than 3 heads?"
   ]
  },
  {
   "cell_type": "code",
   "execution_count": 62,
   "id": "1a23d6f5",
   "metadata": {},
   "outputs": [
    {
     "data": {
      "text/plain": [
       "array([[0, 0, 1, ..., 1, 0, 0],\n",
       "       [0, 1, 0, ..., 0, 1, 1],\n",
       "       [0, 1, 0, ..., 1, 0, 1],\n",
       "       ...,\n",
       "       [0, 1, 1, ..., 0, 1, 1],\n",
       "       [0, 0, 1, ..., 1, 1, 0],\n",
       "       [1, 0, 1, ..., 0, 0, 1]])"
      ]
     },
     "execution_count": 62,
     "metadata": {},
     "output_type": "execute_result"
    }
   ],
   "source": [
    "n_flips = nrows = 10000\n",
    "n_coins = ncols = 8\n",
    "\n",
    "flips = np.random.choice([0, 1], n_flips * n_coins).reshape(nrows, ncols)\n",
    "flips"
   ]
  },
  {
   "cell_type": "code",
   "execution_count": 63,
   "id": "74a6c098",
   "metadata": {},
   "outputs": [
    {
     "data": {
      "text/plain": [
       "array([3, 5, 5, ..., 5, 5, 5])"
      ]
     },
     "execution_count": 63,
     "metadata": {},
     "output_type": "execute_result"
    }
   ],
   "source": [
    "sums_by_trial = flips.sum(axis=1)\n",
    "sums_by_trial"
   ]
  },
  {
   "cell_type": "code",
   "execution_count": 64,
   "id": "a876714f",
   "metadata": {},
   "outputs": [
    {
     "data": {
      "text/plain": [
       "array([ True, False, False, ..., False, False, False])"
      ]
     },
     "execution_count": 64,
     "metadata": {},
     "output_type": "execute_result"
    }
   ],
   "source": [
    "exact = sums_by_trial == 3\n",
    "exact"
   ]
  },
  {
   "cell_type": "code",
   "execution_count": 65,
   "id": "4f3fc9c0",
   "metadata": {},
   "outputs": [
    {
     "data": {
      "text/plain": [
       "0.2241"
      ]
     },
     "execution_count": 65,
     "metadata": {},
     "output_type": "execute_result"
    }
   ],
   "source": [
    "three_heads = exact.astype(int).mean()\n",
    "three_heads"
   ]
  },
  {
   "cell_type": "markdown",
   "id": "3f4bd97e",
   "metadata": {},
   "source": [
    "3. There are approximitely 3 web development cohorts for every 1 data science cohort at Codeup. Assuming that Codeup randomly selects an alumni to put on a billboard, what are the odds that the two billboards I drive past both have data science students on them?"
   ]
  },
  {
   "cell_type": "code",
   "execution_count": 129,
   "id": "3f887437",
   "metadata": {},
   "outputs": [
    {
     "data": {
      "text/plain": [
       "0.0675"
      ]
     },
     "execution_count": 129,
     "metadata": {},
     "output_type": "execute_result"
    }
   ],
   "source": [
    "n_ds = nrows = 10000\n",
    "n_wd = ncols = 2\n",
    "\n",
    "billboards = np.random.choice([2, 4, 6, 7], n_ds * n_wd).reshape(nrows, ncols)\n",
    "billboards\n",
    "\n",
    "pd.DataFrame(billboards).apply(lambda row: row[0] & row[1] == 7, axis = 1).mean()"
   ]
  },
  {
   "cell_type": "markdown",
   "id": "a02148f0",
   "metadata": {},
   "source": [
    "4. Codeup students buy, on average, 3 poptart packages with a standard deviation of 1.5 a day from the snack vending machine. If on monday the machine is restocked with 17 poptart packages, how likely is it that I will be able to buy some poptarts on Friday afternoon? (Remember, if you have mean and standard deviation, use the np.random.normal) You'll need to make a judgement call on how to handle some of your values"
   ]
  },
  {
   "cell_type": "code",
   "execution_count": 142,
   "id": "faefe9e7",
   "metadata": {},
   "outputs": [
    {
     "data": {
      "text/plain": [
       "0.9543"
      ]
     },
     "execution_count": 142,
     "metadata": {},
     "output_type": "execute_result"
    }
   ],
   "source": [
    "mean = 3\n",
    "sd = 1.5\n",
    "n_pts = nrows = 10_000\n",
    "n_days = ncols = 5\n",
    "\n",
    "poptarts_per_day = np.random.normal(mean, sd, n_pts * n_days).reshape(nrows, ncols)\n",
    "poptarts_per_day\n",
    "(\n",
    "pd.DataFrame(poptarts_per_day).apply(lambda row: \n",
    "                                     row[0] + row[1] + row[2] + row[3] <= 17, axis = 1).mean()\n",
    ")\n",
    "\n",
    "#poptarts_per_week = poptarts_per_day.sum(axis = 1)\n",
    "#poptarts_per_week\n",
    "\n"
   ]
  },
  {
   "cell_type": "markdown",
   "id": "c6b3bad9",
   "metadata": {},
   "source": [
    "5. Compare Heights\n",
    "\n",
    "- Men have an average height of 178 cm and standard deviation of 8cm.\n",
    "- Women have a mean of 170, sd = 6cm.\n",
    "- Since you have means and standard deviations, you can use np.random.normal to generate observations.\n",
    "- If a man and woman are chosen at random, what is the likelihood the woman is taller than the man?"
   ]
  },
  {
   "cell_type": "code",
   "execution_count": 149,
   "id": "93a3b62e",
   "metadata": {},
   "outputs": [
    {
     "data": {
      "text/plain": [
       "0.2084"
      ]
     },
     "execution_count": 149,
     "metadata": {},
     "output_type": "execute_result"
    }
   ],
   "source": [
    "mavg = 178\n",
    "mstd = 8\n",
    "wavg = 170\n",
    "wstd = 6\n",
    "\n",
    "obv = 10_000\n",
    "\n",
    "m_height =  np.random.normal(mavg, mstd, obv)\n",
    "m_height\n",
    "\n",
    "w_height = np.random.normal(wavg, wstd, obv)\n",
    "w_height\n",
    "\n",
    "(w_height > m_height).mean()"
   ]
  },
  {
   "cell_type": "markdown",
   "id": "ead3ff65",
   "metadata": {},
   "source": [
    "6. When installing anaconda on a student's computer, there's a 1 in 250 chance that the download is corrupted and the installation fails. What are the odds that after having 50 students download anaconda, no one has an installation issue? 100 students?\n",
    "\n",
    "- What is the probability that we observe an installation issue within the first 150 students that download anaconda?\n",
    "\n",
    "- How likely is it that 450 students all download anaconda without an issue?"
   ]
  },
  {
   "cell_type": "code",
   "execution_count": 200,
   "id": "302eb97d",
   "metadata": {},
   "outputs": [
    {
     "name": "stdout",
     "output_type": "stream",
     "text": [
      "If fifty students download the software, roughly 0.82 percent of students will not have issues\n",
      "If fifty students download the software, roughly 0.66 percent of students will not have issues\n",
      "If fifty students download the software, roughly 0.55 percent of students will not have issues\n",
      "If fifty students download the software, roughly 0.17 percent of students will not have issues\n"
     ]
    }
   ],
   "source": [
    "results = ['Clean', 'Corrupt']\n",
    "obv = nrows = 10_000\n",
    "students = ncols = 50\n",
    "one_hundred_students = 100\n",
    "one_fifty_students = 150\n",
    "four_hundred_fifty = 450\n",
    "\n",
    "conda = np.random.choice(results, size = (obv, students), p = [249/250, 1/250])\n",
    "conda_two = np.random.choice(results, size = (obv, one_hundred_students), p = [249/250, 1/250])\n",
    "conda_three = np.random.choice(results, size = (obv, one_fifty_students), p = [249/250, 1/250])\n",
    "conda_four = np.random.choice(results, size = (obv, four_hundred_fifty), p = [249/250, 1/250])\n",
    "conda\n",
    "\n",
    "(conda == 'Clean').sum(axis = 1)\n",
    "\n",
    "fifty_students = round(((conda == 'Clean').sum(axis=1) == 50).mean(), 2)\n",
    "one_hundo = round(((conda_two == 'Clean').sum(axis=1) == 100).mean(), 2)\n",
    "one_fifty = round(((conda_three == 'Clean').sum(axis=1) == 150).mean(), 2)\n",
    "four_fifty = round(((conda_four == 'Clean').sum(axis=1) == 450).mean(), 2)\n",
    "print('If fifty students download the software, roughly', fifty_students, 'percent of students will not have issues')\n",
    "print('If fifty students download the software, roughly', one_hundo, 'percent of students will not have issues')\n",
    "print('If fifty students download the software, roughly', one_fifty, 'percent of students will not have issues')\n",
    "print('If fifty students download the software, roughly', four_fifty, 'percent of students will not have issues')"
   ]
  },
  {
   "cell_type": "markdown",
   "id": "828ee9ec",
   "metadata": {},
   "source": [
    "7. There's a 70% chance on any given day that there will be at least one food truck at Travis Park. However, you haven't seen a food truck there in 3 days. How unlikely is this?\n",
    "\n",
    "- How likely is it that a food truck will show up sometime this week?"
   ]
  },
  {
   "cell_type": "code",
   "execution_count": 215,
   "id": "7b179dac",
   "metadata": {},
   "outputs": [
    {
     "data": {
      "text/plain": [
       "array([[0.44904434, 0.79765585, 0.03195348],\n",
       "       [0.53642198, 0.21668267, 0.02518537],\n",
       "       [0.95604834, 0.97819358, 0.76903218],\n",
       "       ...,\n",
       "       [0.02203407, 0.49326098, 0.83402399],\n",
       "       [0.9081563 , 0.41111351, 0.9087612 ],\n",
       "       [0.02752291, 0.84052606, 0.13770575]])"
      ]
     },
     "execution_count": 215,
     "metadata": {},
     "output_type": "execute_result"
    }
   ],
   "source": [
    "chance_of_truck = 0.7\n",
    "n_days = 3\n",
    "obv = 10_000\n",
    "truck_present = np.random.random((obv ,n_days))\n",
    "truck_present\n"
   ]
  },
  {
   "cell_type": "code",
   "execution_count": 216,
   "id": "607aca9d",
   "metadata": {},
   "outputs": [
    {
     "data": {
      "text/plain": [
       "0.0267"
      ]
     },
     "execution_count": 216,
     "metadata": {},
     "output_type": "execute_result"
    }
   ],
   "source": [
    "lunch_time = (truck_present < chance_of_truck)\n",
    "lunch_time\n",
    "\n",
    "(lunch_time.sum(axis=1) == 0).mean()"
   ]
  },
  {
   "cell_type": "code",
   "execution_count": 223,
   "id": "8137c5fd",
   "metadata": {},
   "outputs": [
    {
     "data": {
      "text/plain": [
       "0.9999"
      ]
     },
     "execution_count": 223,
     "metadata": {},
     "output_type": "execute_result"
    }
   ],
   "source": [
    "chance_of_truck = 0.7\n",
    "n_days = 7\n",
    "obv = 10_000\n",
    "truck_present = np.random.random((obv, n_days))\n",
    "truck_present\n",
    "\n",
    "lunch_time = (truck_present < chance_of_truck)\n",
    "lunch_time\n",
    "\n",
    "(lunch_time.sum(axis=1) > 0).mean()"
   ]
  },
  {
   "cell_type": "code",
   "execution_count": null,
   "id": "5b18e0ca",
   "metadata": {},
   "outputs": [],
   "source": []
  },
  {
   "cell_type": "markdown",
   "id": "0b8f10db",
   "metadata": {},
   "source": [
    "8. If 23 people are in the same room, what are the odds that two of them share a birthday? What if it's 20 people? 40?"
   ]
  },
  {
   "cell_type": "code",
   "execution_count": 292,
   "id": "7cefd0d0",
   "metadata": {},
   "outputs": [
    {
     "data": {
      "text/html": [
       "<div>\n",
       "<style scoped>\n",
       "    .dataframe tbody tr th:only-of-type {\n",
       "        vertical-align: middle;\n",
       "    }\n",
       "\n",
       "    .dataframe tbody tr th {\n",
       "        vertical-align: top;\n",
       "    }\n",
       "\n",
       "    .dataframe thead th {\n",
       "        text-align: right;\n",
       "    }\n",
       "</style>\n",
       "<table border=\"1\" class=\"dataframe\">\n",
       "  <thead>\n",
       "    <tr style=\"text-align: right;\">\n",
       "      <th></th>\n",
       "      <th>0</th>\n",
       "      <th>1</th>\n",
       "      <th>2</th>\n",
       "      <th>3</th>\n",
       "      <th>4</th>\n",
       "      <th>5</th>\n",
       "      <th>6</th>\n",
       "      <th>7</th>\n",
       "      <th>8</th>\n",
       "      <th>9</th>\n",
       "      <th>...</th>\n",
       "      <th>13</th>\n",
       "      <th>14</th>\n",
       "      <th>15</th>\n",
       "      <th>16</th>\n",
       "      <th>17</th>\n",
       "      <th>18</th>\n",
       "      <th>19</th>\n",
       "      <th>20</th>\n",
       "      <th>21</th>\n",
       "      <th>22</th>\n",
       "    </tr>\n",
       "  </thead>\n",
       "  <tbody>\n",
       "    <tr>\n",
       "      <th>0</th>\n",
       "      <td>61</td>\n",
       "      <td>103</td>\n",
       "      <td>333</td>\n",
       "      <td>110</td>\n",
       "      <td>217</td>\n",
       "      <td>280</td>\n",
       "      <td>270</td>\n",
       "      <td>89</td>\n",
       "      <td>244</td>\n",
       "      <td>159</td>\n",
       "      <td>...</td>\n",
       "      <td>91</td>\n",
       "      <td>325</td>\n",
       "      <td>284</td>\n",
       "      <td>9</td>\n",
       "      <td>275</td>\n",
       "      <td>273</td>\n",
       "      <td>27</td>\n",
       "      <td>77</td>\n",
       "      <td>133</td>\n",
       "      <td>212</td>\n",
       "    </tr>\n",
       "    <tr>\n",
       "      <th>1</th>\n",
       "      <td>81</td>\n",
       "      <td>37</td>\n",
       "      <td>102</td>\n",
       "      <td>325</td>\n",
       "      <td>260</td>\n",
       "      <td>92</td>\n",
       "      <td>219</td>\n",
       "      <td>131</td>\n",
       "      <td>250</td>\n",
       "      <td>94</td>\n",
       "      <td>...</td>\n",
       "      <td>239</td>\n",
       "      <td>309</td>\n",
       "      <td>222</td>\n",
       "      <td>14</td>\n",
       "      <td>207</td>\n",
       "      <td>284</td>\n",
       "      <td>184</td>\n",
       "      <td>311</td>\n",
       "      <td>135</td>\n",
       "      <td>133</td>\n",
       "    </tr>\n",
       "    <tr>\n",
       "      <th>2</th>\n",
       "      <td>103</td>\n",
       "      <td>79</td>\n",
       "      <td>289</td>\n",
       "      <td>209</td>\n",
       "      <td>239</td>\n",
       "      <td>254</td>\n",
       "      <td>153</td>\n",
       "      <td>130</td>\n",
       "      <td>177</td>\n",
       "      <td>70</td>\n",
       "      <td>...</td>\n",
       "      <td>84</td>\n",
       "      <td>181</td>\n",
       "      <td>50</td>\n",
       "      <td>223</td>\n",
       "      <td>19</td>\n",
       "      <td>207</td>\n",
       "      <td>169</td>\n",
       "      <td>308</td>\n",
       "      <td>298</td>\n",
       "      <td>337</td>\n",
       "    </tr>\n",
       "    <tr>\n",
       "      <th>3</th>\n",
       "      <td>180</td>\n",
       "      <td>310</td>\n",
       "      <td>27</td>\n",
       "      <td>348</td>\n",
       "      <td>22</td>\n",
       "      <td>131</td>\n",
       "      <td>174</td>\n",
       "      <td>349</td>\n",
       "      <td>266</td>\n",
       "      <td>310</td>\n",
       "      <td>...</td>\n",
       "      <td>191</td>\n",
       "      <td>6</td>\n",
       "      <td>256</td>\n",
       "      <td>65</td>\n",
       "      <td>47</td>\n",
       "      <td>329</td>\n",
       "      <td>157</td>\n",
       "      <td>157</td>\n",
       "      <td>187</td>\n",
       "      <td>330</td>\n",
       "    </tr>\n",
       "    <tr>\n",
       "      <th>4</th>\n",
       "      <td>302</td>\n",
       "      <td>340</td>\n",
       "      <td>320</td>\n",
       "      <td>19</td>\n",
       "      <td>339</td>\n",
       "      <td>162</td>\n",
       "      <td>323</td>\n",
       "      <td>313</td>\n",
       "      <td>119</td>\n",
       "      <td>262</td>\n",
       "      <td>...</td>\n",
       "      <td>349</td>\n",
       "      <td>88</td>\n",
       "      <td>266</td>\n",
       "      <td>199</td>\n",
       "      <td>5</td>\n",
       "      <td>131</td>\n",
       "      <td>217</td>\n",
       "      <td>31</td>\n",
       "      <td>51</td>\n",
       "      <td>276</td>\n",
       "    </tr>\n",
       "    <tr>\n",
       "      <th>...</th>\n",
       "      <td>...</td>\n",
       "      <td>...</td>\n",
       "      <td>...</td>\n",
       "      <td>...</td>\n",
       "      <td>...</td>\n",
       "      <td>...</td>\n",
       "      <td>...</td>\n",
       "      <td>...</td>\n",
       "      <td>...</td>\n",
       "      <td>...</td>\n",
       "      <td>...</td>\n",
       "      <td>...</td>\n",
       "      <td>...</td>\n",
       "      <td>...</td>\n",
       "      <td>...</td>\n",
       "      <td>...</td>\n",
       "      <td>...</td>\n",
       "      <td>...</td>\n",
       "      <td>...</td>\n",
       "      <td>...</td>\n",
       "      <td>...</td>\n",
       "    </tr>\n",
       "    <tr>\n",
       "      <th>9995</th>\n",
       "      <td>194</td>\n",
       "      <td>130</td>\n",
       "      <td>29</td>\n",
       "      <td>330</td>\n",
       "      <td>273</td>\n",
       "      <td>291</td>\n",
       "      <td>162</td>\n",
       "      <td>29</td>\n",
       "      <td>217</td>\n",
       "      <td>182</td>\n",
       "      <td>...</td>\n",
       "      <td>140</td>\n",
       "      <td>62</td>\n",
       "      <td>296</td>\n",
       "      <td>340</td>\n",
       "      <td>158</td>\n",
       "      <td>151</td>\n",
       "      <td>209</td>\n",
       "      <td>199</td>\n",
       "      <td>292</td>\n",
       "      <td>98</td>\n",
       "    </tr>\n",
       "    <tr>\n",
       "      <th>9996</th>\n",
       "      <td>18</td>\n",
       "      <td>94</td>\n",
       "      <td>115</td>\n",
       "      <td>165</td>\n",
       "      <td>145</td>\n",
       "      <td>127</td>\n",
       "      <td>190</td>\n",
       "      <td>245</td>\n",
       "      <td>245</td>\n",
       "      <td>4</td>\n",
       "      <td>...</td>\n",
       "      <td>288</td>\n",
       "      <td>227</td>\n",
       "      <td>82</td>\n",
       "      <td>349</td>\n",
       "      <td>237</td>\n",
       "      <td>121</td>\n",
       "      <td>332</td>\n",
       "      <td>260</td>\n",
       "      <td>142</td>\n",
       "      <td>68</td>\n",
       "    </tr>\n",
       "    <tr>\n",
       "      <th>9997</th>\n",
       "      <td>77</td>\n",
       "      <td>132</td>\n",
       "      <td>43</td>\n",
       "      <td>93</td>\n",
       "      <td>114</td>\n",
       "      <td>215</td>\n",
       "      <td>105</td>\n",
       "      <td>263</td>\n",
       "      <td>323</td>\n",
       "      <td>225</td>\n",
       "      <td>...</td>\n",
       "      <td>217</td>\n",
       "      <td>340</td>\n",
       "      <td>250</td>\n",
       "      <td>228</td>\n",
       "      <td>107</td>\n",
       "      <td>72</td>\n",
       "      <td>69</td>\n",
       "      <td>27</td>\n",
       "      <td>201</td>\n",
       "      <td>209</td>\n",
       "    </tr>\n",
       "    <tr>\n",
       "      <th>9998</th>\n",
       "      <td>78</td>\n",
       "      <td>26</td>\n",
       "      <td>165</td>\n",
       "      <td>319</td>\n",
       "      <td>46</td>\n",
       "      <td>320</td>\n",
       "      <td>276</td>\n",
       "      <td>62</td>\n",
       "      <td>184</td>\n",
       "      <td>294</td>\n",
       "      <td>...</td>\n",
       "      <td>257</td>\n",
       "      <td>74</td>\n",
       "      <td>187</td>\n",
       "      <td>302</td>\n",
       "      <td>342</td>\n",
       "      <td>47</td>\n",
       "      <td>328</td>\n",
       "      <td>350</td>\n",
       "      <td>126</td>\n",
       "      <td>259</td>\n",
       "    </tr>\n",
       "    <tr>\n",
       "      <th>9999</th>\n",
       "      <td>180</td>\n",
       "      <td>70</td>\n",
       "      <td>326</td>\n",
       "      <td>167</td>\n",
       "      <td>11</td>\n",
       "      <td>270</td>\n",
       "      <td>232</td>\n",
       "      <td>59</td>\n",
       "      <td>289</td>\n",
       "      <td>62</td>\n",
       "      <td>...</td>\n",
       "      <td>326</td>\n",
       "      <td>27</td>\n",
       "      <td>58</td>\n",
       "      <td>270</td>\n",
       "      <td>348</td>\n",
       "      <td>17</td>\n",
       "      <td>289</td>\n",
       "      <td>90</td>\n",
       "      <td>3</td>\n",
       "      <td>273</td>\n",
       "    </tr>\n",
       "  </tbody>\n",
       "</table>\n",
       "<p>10000 rows × 23 columns</p>\n",
       "</div>"
      ],
      "text/plain": [
       "       0    1    2    3    4    5    6    7    8    9   ...   13   14   15  \\\n",
       "0      61  103  333  110  217  280  270   89  244  159  ...   91  325  284   \n",
       "1      81   37  102  325  260   92  219  131  250   94  ...  239  309  222   \n",
       "2     103   79  289  209  239  254  153  130  177   70  ...   84  181   50   \n",
       "3     180  310   27  348   22  131  174  349  266  310  ...  191    6  256   \n",
       "4     302  340  320   19  339  162  323  313  119  262  ...  349   88  266   \n",
       "...   ...  ...  ...  ...  ...  ...  ...  ...  ...  ...  ...  ...  ...  ...   \n",
       "9995  194  130   29  330  273  291  162   29  217  182  ...  140   62  296   \n",
       "9996   18   94  115  165  145  127  190  245  245    4  ...  288  227   82   \n",
       "9997   77  132   43   93  114  215  105  263  323  225  ...  217  340  250   \n",
       "9998   78   26  165  319   46  320  276   62  184  294  ...  257   74  187   \n",
       "9999  180   70  326  167   11  270  232   59  289   62  ...  326   27   58   \n",
       "\n",
       "       16   17   18   19   20   21   22  \n",
       "0       9  275  273   27   77  133  212  \n",
       "1      14  207  284  184  311  135  133  \n",
       "2     223   19  207  169  308  298  337  \n",
       "3      65   47  329  157  157  187  330  \n",
       "4     199    5  131  217   31   51  276  \n",
       "...   ...  ...  ...  ...  ...  ...  ...  \n",
       "9995  340  158  151  209  199  292   98  \n",
       "9996  349  237  121  332  260  142   68  \n",
       "9997  228  107   72   69   27  201  209  \n",
       "9998  302  342   47  328  350  126  259  \n",
       "9999  270  348   17  289   90    3  273  \n",
       "\n",
       "[10000 rows x 23 columns]"
      ]
     },
     "execution_count": 292,
     "metadata": {},
     "output_type": "execute_result"
    }
   ],
   "source": [
    "people = ncols = 23\n",
    "obv = nrows = 10_000\n",
    "\n",
    "random_day = random.randrange(1, 366)\n",
    "\n",
    "samesies = np.random.choice(random_day, obv * people).reshape(nrows, ncols)\n",
    "samesies\n",
    "\n",
    "samesies = pd.DataFrame(samesies)\n",
    "samesies\n"
   ]
  },
  {
   "cell_type": "code",
   "execution_count": 293,
   "id": "84c2872e",
   "metadata": {},
   "outputs": [
    {
     "data": {
      "text/plain": [
       "0.531"
      ]
     },
     "execution_count": 293,
     "metadata": {},
     "output_type": "execute_result"
    }
   ],
   "source": [
    "(samesies.nunique(axis=1) < 23).mean()"
   ]
  },
  {
   "cell_type": "code",
   "execution_count": null,
   "id": "44235c06",
   "metadata": {},
   "outputs": [],
   "source": []
  },
  {
   "cell_type": "code",
   "execution_count": null,
   "id": "12b48bda",
   "metadata": {},
   "outputs": [],
   "source": []
  }
 ],
 "metadata": {
  "kernelspec": {
   "display_name": "Python 3 (ipykernel)",
   "language": "python",
   "name": "python3"
  },
  "language_info": {
   "codemirror_mode": {
    "name": "ipython",
    "version": 3
   },
   "file_extension": ".py",
   "mimetype": "text/x-python",
   "name": "python",
   "nbconvert_exporter": "python",
   "pygments_lexer": "ipython3",
   "version": "3.9.13"
  }
 },
 "nbformat": 4,
 "nbformat_minor": 5
}
